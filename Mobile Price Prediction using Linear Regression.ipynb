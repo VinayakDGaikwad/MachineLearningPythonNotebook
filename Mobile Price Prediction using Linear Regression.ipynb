{
 "cells": [
  {
   "cell_type": "code",
   "execution_count": 7,
   "id": "2f005043-bac3-4a32-bcc5-b73b20f0a7e0",
   "metadata": {},
   "outputs": [
    {
     "name": "stdout",
     "output_type": "stream",
     "text": [
      "Requirement already satisfied: pandas in c:\\users\\hp\\appdata\\local\\programs\\python\\python39\\lib\\site-packages (2.3.0)\n",
      "Requirement already satisfied: numpy>=1.22.4 in c:\\users\\hp\\appdata\\local\\programs\\python\\python39\\lib\\site-packages (from pandas) (2.0.2)\n",
      "Requirement already satisfied: python-dateutil>=2.8.2 in c:\\users\\hp\\appdata\\local\\programs\\python\\python39\\lib\\site-packages (from pandas) (2.9.0.post0)\n",
      "Requirement already satisfied: pytz>=2020.1 in c:\\users\\hp\\appdata\\local\\programs\\python\\python39\\lib\\site-packages (from pandas) (2025.2)\n",
      "Requirement already satisfied: tzdata>=2022.7 in c:\\users\\hp\\appdata\\local\\programs\\python\\python39\\lib\\site-packages (from pandas) (2025.2)\n",
      "Requirement already satisfied: six>=1.5 in c:\\users\\hp\\appdata\\local\\programs\\python\\python39\\lib\\site-packages (from python-dateutil>=2.8.2->pandas) (1.17.0)\n"
     ]
    },
    {
     "name": "stderr",
     "output_type": "stream",
     "text": [
      "WARNING: You are using pip version 22.0.4; however, version 25.1.1 is available.\n",
      "You should consider upgrading via the 'C:\\Users\\HP\\AppData\\Local\\Programs\\Python\\Python39\\python.exe -m pip install --upgrade pip' command.\n"
     ]
    }
   ],
   "source": [
    "!pip install pandas"
   ]
  },
  {
   "cell_type": "code",
   "execution_count": 9,
   "id": "707371a4-f114-44e4-aec7-c8608d737751",
   "metadata": {},
   "outputs": [
    {
     "name": "stdout",
     "output_type": "stream",
     "text": [
      " Sample Mobile Dataset:\n",
      "   RAM  Storage  Battery  Front_Cam  Rear_Cam  Price\n",
      "0    2       32     3000          8        13   8000\n",
      "1    4       64     4000         16        48  12000\n",
      "2    6       64     4500         16        64  15000\n",
      "3    8      128     5000         32       108  22000\n",
      "4    3       32     3200         12        20  10000\n",
      "5    6      128     4300         16        48  16000\n",
      "6    4       64     3800         13        50  13000\n",
      "7    8      256     6000         32       108  25000\n",
      "8   12      256     5000         32       108  30000\n",
      "9   16      512     6000         32       200  40000\n",
      "\n",
      " Mean Squared Error on Test Data: 3322122.87\n",
      "\n",
      " Enter mobile specs to predict price:\n"
     ]
    },
    {
     "name": "stdin",
     "output_type": "stream",
     "text": [
      "RAM (in GB):  3\n",
      "Storage (in GB):  120\n",
      "Battery (in mAh):  6000\n",
      "Front Camera (in MP):  10\n",
      "Rear Camera (in MP):  10\n"
     ]
    },
    {
     "name": "stdout",
     "output_type": "stream",
     "text": [
      "\n",
      " Estimated Mobile Price: ₹11472\n"
     ]
    },
    {
     "name": "stderr",
     "output_type": "stream",
     "text": [
      "C:\\Users\\HP\\AppData\\Local\\Programs\\Python\\Python39\\lib\\site-packages\\sklearn\\utils\\validation.py:2739: UserWarning: X does not have valid feature names, but LinearRegression was fitted with feature names\n",
      "  warnings.warn(\n"
     ]
    }
   ],
   "source": [
    "import pandas as pd\n",
    "from sklearn.linear_model import LinearRegression\n",
    "from sklearn.model_selection import train_test_split\n",
    "from sklearn.metrics import mean_squared_error\n",
    "\n",
    "\n",
    "data = {\n",
    "    'RAM': [2, 4, 6, 8, 3, 6, 4, 8, 12, 16],               # in GB\n",
    "    'Storage': [32, 64, 64, 128, 32, 128, 64, 256, 256, 512],  # in GB\n",
    "    'Battery': [3000, 4000, 4500, 5000, 3200, 4300, 3800, 6000, 5000, 6000],  # mAh\n",
    "    'Front_Cam': [8, 16, 16, 32, 12, 16, 13, 32, 32, 32],   # MP\n",
    "    'Rear_Cam': [13, 48, 64, 108, 20, 48, 50, 108, 108, 200],  # MP\n",
    "    'Price': [8000, 12000, 15000, 22000, 10000, 16000, 13000, 25000, 30000, 40000]  # Rs.\n",
    "}\n",
    "\n",
    "df = pd.DataFrame(data)\n",
    "print(\" Sample Mobile Dataset:\")\n",
    "print(df)\n",
    "\n",
    "#  Separate features and target\n",
    "X = df[['RAM', 'Storage', 'Battery', 'Front_Cam', 'Rear_Cam']]\n",
    "y = df['Price']\n",
    "\n",
    "#  Split data into training and testing\n",
    "X_train, X_test, y_train, y_test = train_test_split(X, y, test_size=0.2, random_state=42)\n",
    "\n",
    "#  Train Linear Regression model\n",
    "model = LinearRegression()     #function d\n",
    "model.fit(X_train, y_train)\n",
    "\n",
    "#  Evaluate model performance\n",
    "y_pred = model.predict(X_test)\n",
    "mse = mean_squared_error(y_test, y_pred)\n",
    "print(f\"\\n Mean Squared Error on Test Data: {round(mse, 2)}\")\n",
    "\n",
    "#  Take user input for a new mobile\n",
    "print(\"\\n Enter mobile specs to predict price:\")\n",
    "ram = int(input(\"RAM (in GB): \"))\n",
    "storage = int(input(\"Storage (in GB): \"))\n",
    "battery = int(input(\"Battery (in mAh): \"))\n",
    "front_cam = int(input(\"Front Camera (in MP): \"))\n",
    "rear_cam = int(input(\"Rear Camera (in MP): \"))\n",
    "\n",
    "#  Predict price\n",
    "input_data = [[ram, storage, battery, front_cam, rear_cam]]\n",
    "predicted_price = model.predict(input_data)[0]\n",
    "\n",
    "print(f\"\\n Estimated Mobile Price: ₹{round(predicted_price)}\")\n"
   ]
  },
  {
   "cell_type": "code",
   "execution_count": null,
   "id": "ee0af2ad-5b72-4390-b0b9-d2560b144c04",
   "metadata": {},
   "outputs": [],
   "source": []
  }
 ],
 "metadata": {
  "kernelspec": {
   "display_name": "Python 3 (ipykernel)",
   "language": "python",
   "name": "python3"
  },
  "language_info": {
   "codemirror_mode": {
    "name": "ipython",
    "version": 3
   },
   "file_extension": ".py",
   "mimetype": "text/x-python",
   "name": "python",
   "nbconvert_exporter": "python",
   "pygments_lexer": "ipython3",
   "version": "3.9.13"
  }
 },
 "nbformat": 4,
 "nbformat_minor": 5
}
