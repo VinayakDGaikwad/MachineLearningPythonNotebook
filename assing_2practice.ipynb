{
 "cells": [
  {
   "cell_type": "code",
   "execution_count": 69,
   "id": "48c66e3a",
   "metadata": {},
   "outputs": [],
   "source": [
    "from tensorflow.keras.preprocessing.image import ImageDataGenerator\n",
    "train_datagen = ImageDataGenerator(\n",
    "rescale=1.0/255\n",
    ")\n",
    "\n",
    "# Image data generator for testing data\n",
    "test_datagen = ImageDataGenerator(\n",
    "rescale=1.0/255\n",
    ")"
   ]
  },
  {
   "cell_type": "code",
   "execution_count": 70,
   "id": "0d7a0c2f",
   "metadata": {},
   "outputs": [
    {
     "name": "stdout",
     "output_type": "stream",
     "text": [
      "Found 10000 images belonging to 10 classes.\n",
      "Found 60000 images belonging to 10 classes.\n"
     ]
    }
   ],
   "source": [
    "test_generator = test_datagen.flow_from_directory(\"C:/Users/vdg/Downloads/mnist-jpg/test/\",\n",
    "                                                 target_size=(28,28),\n",
    "                                                  class_mode='categorical',\n",
    "                                                 batch_size=20000)\n",
    "train_generator = test_datagen.flow_from_directory(\"C:/Users/vdg/Downloads/mnist-jpg/train/\",\n",
    "                                                 target_size=(28,28),\n",
    "                                                   class_mode='categorical',\n",
    "                                                  batch_size=20000)"
   ]
  },
  {
   "cell_type": "code",
   "execution_count": 71,
   "id": "99e8febf",
   "metadata": {},
   "outputs": [],
   "source": [
    "X_train,Y_train = train_generator[0]\n",
    "X_test,Y_test = test_generator[0]"
   ]
  },
  {
   "cell_type": "code",
   "execution_count": 72,
   "id": "cbf1ba2d",
   "metadata": {},
   "outputs": [],
   "source": [
    "from tensorflow.keras.models import Sequential\n",
    "from tensorflow import keras"
   ]
  },
  {
   "cell_type": "code",
   "execution_count": null,
   "id": "33a95384",
   "metadata": {},
   "outputs": [],
   "source": [
    "        "
   ]
  },
  {
   "cell_type": "code",
   "execution_count": null,
   "id": "148d133d",
   "metadata": {},
   "outputs": [],
   "source": []
  },
  {
   "cell_type": "code",
   "execution_count": 73,
   "id": "f84fcce5",
   "metadata": {},
   "outputs": [],
   "source": [
    "model = Sequential([\n",
    "    keras.layers.Flatten(input_shape=(28,28,3)),\n",
    "    keras.layers.Dense(128, activation='relu'),\n",
    "    keras.layers.Dense(10, activation=\"softmax\")\n",
    "])"
   ]
  },
  {
   "cell_type": "code",
   "execution_count": 74,
   "id": "538832be",
   "metadata": {},
   "outputs": [],
   "source": [
    "model.compile(optimizer='sgd', loss='categorical_crossentropy', metrics=['accuracy'])"
   ]
  },
  {
   "cell_type": "code",
   "execution_count": 75,
   "id": "e3b6c864",
   "metadata": {
    "scrolled": true
   },
   "outputs": [
    {
     "name": "stdout",
     "output_type": "stream",
     "text": [
      "Epoch 1/4\n",
      "625/625 [==============================] - 7s 10ms/step - loss: 0.7269 - accuracy: 0.8194 - val_loss: 0.4053 - val_accuracy: 0.8929\n",
      "Epoch 2/4\n",
      "625/625 [==============================] - 5s 9ms/step - loss: 0.3780 - accuracy: 0.8964 - val_loss: 0.3299 - val_accuracy: 0.9103\n",
      "Epoch 3/4\n",
      "625/625 [==============================] - 6s 9ms/step - loss: 0.3221 - accuracy: 0.9108 - val_loss: 0.2928 - val_accuracy: 0.9161\n",
      "Epoch 4/4\n",
      "625/625 [==============================] - 5s 9ms/step - loss: 0.2901 - accuracy: 0.9187 - val_loss: 0.2737 - val_accuracy: 0.9218\n"
     ]
    }
   ],
   "source": [
    "history = model.fit(X_train,Y_train, epochs=4,validation_data=(X_test,Y_test))"
   ]
  },
  {
   "cell_type": "code",
   "execution_count": 76,
   "id": "c3c2a6c3",
   "metadata": {},
   "outputs": [
    {
     "name": "stdout",
     "output_type": "stream",
     "text": [
      "313/313 [==============================] - 1s 4ms/step - loss: 0.2737 - accuracy: 0.9218\n"
     ]
    },
    {
     "data": {
      "text/plain": [
       "[0.2736828625202179, 0.9218000173568726]"
      ]
     },
     "execution_count": 76,
     "metadata": {},
     "output_type": "execute_result"
    }
   ],
   "source": [
    "model.evaluate(X_test,Y_test)"
   ]
  },
  {
   "cell_type": "code",
   "execution_count": 77,
   "id": "cd799985",
   "metadata": {},
   "outputs": [
    {
     "data": {
      "text/plain": [
       "<matplotlib.legend.Legend at 0x17e141f2310>"
      ]
     },
     "execution_count": 77,
     "metadata": {},
     "output_type": "execute_result"
    },
    {
     "data": {
      "image/png": "[encoded data removed]",
      "text/plain": [
       "<Figure size 640x480 with 1 Axes>"
      ]
     },
     "metadata": {},
     "output_type": "display_data"
    }
   ],
   "source": [
    "import matplotlib.pyplot as plt \n",
    "\n",
    "plt.plot(history.history['accuracy'])\n",
    "plt.plot(history.history['val_accuracy'])\n",
    "plt.legend(['Train', 'Validation'])"
   ]
  }
 ],
 "metadata": {
  "kernelspec": {
   "display_name": "Python 3 (ipykernel)",
   "language": "python",
   "name": "python3"
  },
  "language_info": {
   "codemirror_mode": {
    "name": "ipython",
    "version": 3
   },
   "file_extension": ".py",
   "mimetype": "text/x-python",
   "name": "python",
   "nbconvert_exporter": "python",
   "pygments_lexer": "ipython3",
   "version": "3.11.4"
  }
 },
 "nbformat": 4,
 "nbformat_minor": 5
}
