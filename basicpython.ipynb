{
 "cells": [
  {
   "cell_type": "code",
   "execution_count": 1,
   "id": "adfff9d6-5ddd-4765-adb3-7bf7d9c7f39b",
   "metadata": {},
   "outputs": [
    {
     "name": "stdout",
     "output_type": "stream",
     "text": [
      "Hello World\n"
     ]
    }
   ],
   "source": [
    "print(\"Hello World\")"
   ]
  },
  {
   "cell_type": "code",
   "execution_count": 2,
   "id": "be3cbb1f-308c-4ae0-b158-a0de1cc11f7e",
   "metadata": {},
   "outputs": [
    {
     "name": "stdout",
     "output_type": "stream",
     "text": [
      "95\n",
      "[64, 33, 95]\n",
      "[87, 64, 33, 95]\n",
      "[87, 64, 33, 95, 76, 4]\n",
      "[4, 33, 64, 76, 87, 95]\n",
      "[95, 87, 76, 64, 33, 4]\n",
      "[4, 33, 64, 76, 87, 95]\n",
      "[4, 33, 23, 64, 76, 87, 95]\n",
      "[4, 33, 23, 64, 76, 87]\n",
      "[4, 33, 64, 76, 87]\n"
     ]
    }
   ],
   "source": [
    "list = [87, 64, 33, 95, 76]\n",
    "\n",
    "# print element at index 3\n",
    "print(list[3])\n",
    "\n",
    "# slicing\n",
    "print(list[1 : 4])\n",
    "print(list[:4])\n",
    "\n",
    "# append\n",
    "list.append(4)\n",
    "print(list)   # print updated list\n",
    "\n",
    "# sort ascending\n",
    "list.sort()\n",
    "print(list)   # print sorted list\n",
    "\n",
    "# sort descending\n",
    "list.sort(reverse=True)\n",
    "print(list)   # print sorted in reverse order\n",
    "\n",
    "list.reverse( ) \n",
    "print(list)\n",
    "\n",
    "list.insert(2,23) \n",
    "print(list)\n",
    "\n",
    "list.remove(95)  \n",
    "print(list)\n",
    "\n",
    "list.pop(2)\n",
    "print(list)"
   ]
  },
  {
   "cell_type": "code",
   "execution_count": 5,
   "id": "22f6fe81-02af-4ce3-9812-69eff4e33f62",
   "metadata": {},
   "outputs": [
    {
     "name": "stdout",
     "output_type": "stream",
     "text": [
      "5\n"
     ]
    }
   ],
   "source": [
    "def sum(a,b):\n",
    "    s=a+b\n",
    "    return s\n",
    "print(sum(2,3))"
   ]
  },
  {
   "cell_type": "code",
   "execution_count": 8,
   "id": "90d10d93-a7b6-47bb-9c46-cd462c14eff0",
   "metadata": {},
   "outputs": [],
   "source": [
    "def fact(n):\n",
    "    if(n==0 or n==1):\n",
    "        return 1\n",
    "    else:\n",
    "        return n*fact(n-1)"
   ]
  }
 ],
 "metadata": {
  "kernelspec": {
   "display_name": "Python 3 (ipykernel)",
   "language": "python",
   "name": "python3"
  },
  "language_info": {
   "codemirror_mode": {
    "name": "ipython",
    "version": 3
   },
   "file_extension": ".py",
   "mimetype": "text/x-python",
   "name": "python",
   "nbconvert_exporter": "python",
   "pygments_lexer": "ipython3",
   "version": "3.9.13"
  }
 },
 "nbformat": 4,
 "nbformat_minor": 5
}
