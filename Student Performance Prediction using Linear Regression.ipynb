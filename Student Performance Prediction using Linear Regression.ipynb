{
 "cells": [
  {
   "cell_type": "code",
   "execution_count": null,
   "id": "82ebec06-5801-43b6-8303-a6dac182572f",
   "metadata": {},
   "outputs": [],
   "source": [
    "# Student Performance Prediction using Linear Regression\n",
    "\n",
    "\n",
    "import pandas as pd\n",
    "from sklearn.linear_model import LinearRegression\n",
    "from sklearn.model_selection import train_test_split\n",
    "from sklearn.metrics import mean_squared_error\n",
    "\n",
    "\n",
    "data = {\n",
    "    'Study_Hours': [1, 2, 3, 4, 5, 6, 7, 8, 2.5, 6.5],\n",
    "    'Sleep_Hours': [8, 7, 6, 6, 5, 5, 4, 4, 6.5, 5.5],\n",
    "    'Attendance': [60, 65, 70, 75, 80, 85, 90, 95, 72, 88],\n",
    "    'Assignments_Completed': [2, 3, 3, 4, 5, 5, 6, 6, 3, 5],\n",
    "    'Internal_Test_Score': [30, 35, 40, 45, 50, 55, 60, 65, 38, 58],\n",
    "    'Final_Score': [40, 45, 50, 55, 60, 70, 75, 85, 48, 78]\n",
    "}\n",
    "\n",
    "df = pd.DataFrame(data)\n",
    "print(\"Sample Student Dataset:\")\n",
    "print(df)\n",
    "\n",
    "\n",
    "X = df[['Study_Hours', 'Sleep_Hours', 'Attendance', 'Assignments_Completed', 'Internal_Test_Score']]\n",
    "y = df['Final_Score']\n",
    "\n",
    "\n",
    "X_train, X_test, y_train, y_test = train_test_split(X, y, test_size=0.2, random_state=1)\n",
    "\n",
    "\n",
    "model = LinearRegression()\n",
    "model.fit(X_train, y_train)\n",
    "\n",
    "y_pred = model.predict(X_test)\n",
    "mse = mean_squared_error(y_test, y_pred)\n",
    "print(f\"\\n Mean Squared Error: {round(mse, 2)}\")\n",
    "\n",
    "\n",
    "print(\"\\n Enter student performance details to predict final score:\")\n",
    "study_hours = float(input(\"Study Hours per day: \"))\n",
    "sleep_hours = float(input(\"Sleep Hours per day: \"))\n",
    "attendance = float(input(\"Attendance percentage (0-100): \"))\n",
    "assignments = int(input(\"Number of assignments completed: \"))\n",
    "internal_score = float(input(\"Internal test score (out of 70): \"))\n",
    "\n",
    "\n",
    "input_data = [[study_hours, sleep_hours, attendance, assignments, internal_score]]\n",
    "predicted_score = model.predict(input_data)[0]\n",
    "\n",
    "\n",
    "predicted_score = max(0, min(100, predicted_score))\n",
    "\n",
    "\n",
    "print(f\"\\n Predicted Final Exam Score: {round(predicted_score, 2)} / 100\")\n"
   ]
  },
  {
   "cell_type": "code",
   "execution_count": null,
   "id": "77859768-828e-48b8-8ba8-850e07f80a2f",
   "metadata": {},
   "outputs": [],
   "source": []
  }
 ],
 "metadata": {
  "kernelspec": {
   "display_name": "Python 3 (ipykernel)",
   "language": "python",
   "name": "python3"
  },
  "language_info": {
   "codemirror_mode": {
    "name": "ipython",
    "version": 3
   },
   "file_extension": ".py",
   "mimetype": "text/x-python",
   "name": "python",
   "nbconvert_exporter": "python",
   "pygments_lexer": "ipython3",
   "version": "3.9.13"
  }
 },
 "nbformat": 4,
 "nbformat_minor": 5
}
