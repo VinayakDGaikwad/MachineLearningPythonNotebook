{
 "cells": [
  {
   "cell_type": "code",
   "execution_count": 5,
   "id": "1bb35982",
   "metadata": {},
   "outputs": [],
   "source": [
    "from tensorflow.keras.preprocessing.image import ImageDataGenerator\n",
    "train_datagenerator = ImageDataGenerator(rescale=1.0/255)"
   ]
  },
  {
   "cell_type": "code",
   "execution_count": 20,
   "id": "238a0cde",
   "metadata": {},
   "outputs": [
    {
     "name": "stdout",
     "output_type": "stream",
     "text": [
      "Found 9144 images belonging to 102 classes.\n"
     ]
    }
   ],
   "source": [
    "train_generator = train_datagenerator.flow_from_directory('C:/Users/vdg/Downloads/caltech-101-img',batch_size=2000,\n",
    "                                                         target_size=(64,64))"
   ]
  },
  {
   "cell_type": "code",
   "execution_count": 22,
   "id": "c0335c50",
   "metadata": {},
   "outputs": [],
   "source": [
    "X_train, Y_train = train_generator[0]\n",
    "X_test, Y_test = train_generator[1]"
   ]
  },
  {
   "cell_type": "code",
   "execution_count": 23,
   "id": "d3e341c3",
   "metadata": {},
   "outputs": [
    {
     "data": {
      "text/plain": [
       "(64, 64, 3)"
      ]
     },
     "execution_count": 23,
     "metadata": {},
     "output_type": "execute_result"
    }
   ],
   "source": [
    "X_train[0].shape"
   ]
  },
  {
   "cell_type": "code",
   "execution_count": 24,
   "id": "11ddbd36",
   "metadata": {},
   "outputs": [],
   "source": [
    "from tensorflow.keras.applications import VGG16"
   ]
  },
  {
   "cell_type": "code",
   "execution_count": 30,
   "id": "5d636030",
   "metadata": {},
   "outputs": [],
   "source": [
    "model = VGG16(weights=\"C:/Users/vdg/Downloads/vgg16_weights_tf_dim_ordering_tf_kernels_notop.h5\",\n",
    "              include_top = False, \n",
    "              input_shape=(64,64,3))"
   ]
  },
  {
   "cell_type": "code",
   "execution_count": 33,
   "id": "76d48ee3",
   "metadata": {},
   "outputs": [],
   "source": [
    "for layer in model.layers:\n",
    "   layer.trainable = False"
   ]
  },
  {
   "cell_type": "code",
   "execution_count": 47,
   "id": "2eeba6d6",
   "metadata": {},
   "outputs": [],
   "source": [
    "from tensorflow.keras.layers import Flatten,Dense\n",
    "\n",
    "x = Flatten()(model.output)\n",
    "x = Dense(64, activation='relu')(x)\n",
    "predictions = Dense(102, activation='softmax')(x)"
   ]
  },
  {
   "cell_type": "code",
   "execution_count": 53,
   "id": "7ce151f8",
   "metadata": {},
   "outputs": [],
   "source": [
    "from tensorflow.keras.models import Model\n",
    "model = Model(inputs=model.input,outputs=predictions) "
   ]
  },
  {
   "cell_type": "code",
   "execution_count": 55,
   "id": "0d408101",
   "metadata": {},
   "outputs": [],
   "source": [
    "model.compile(optimizer=\"adam\", loss='categorical_crossentropy', metrics=['accuracy'])"
   ]
  },
  {
   "cell_type": "code",
   "execution_count": 58,
   "id": "96725398",
   "metadata": {},
   "outputs": [
    {
     "name": "stdout",
     "output_type": "stream",
     "text": [
      "Epoch 1/10\n",
      "63/63 [==============================] - 99s 2s/step - loss: 3.1178 - accuracy: 0.3310 - val_loss: 2.9523 - val_accuracy: 0.3600\n",
      "Epoch 2/10\n",
      "63/63 [==============================] - 134s 2s/step - loss: 2.4208 - accuracy: 0.4835 - val_loss: 2.5061 - val_accuracy: 0.4470\n",
      "Epoch 3/10\n",
      "63/63 [==============================] - 138s 2s/step - loss: 1.9316 - accuracy: 0.5795 - val_loss: 2.2593 - val_accuracy: 0.5095\n",
      "Epoch 4/10\n",
      "63/63 [==============================] - 123s 2s/step - loss: 1.6012 - accuracy: 0.6345 - val_loss: 2.1067 - val_accuracy: 0.5110\n",
      "Epoch 5/10\n",
      "63/63 [==============================] - 112s 2s/step - loss: 1.3493 - accuracy: 0.6985 - val_loss: 2.0141 - val_accuracy: 0.5325\n",
      "Epoch 6/10\n",
      "63/63 [==============================] - 111s 2s/step - loss: 1.1465 - accuracy: 0.7490 - val_loss: 1.9559 - val_accuracy: 0.5340\n",
      "Epoch 7/10\n",
      "63/63 [==============================] - 115s 2s/step - loss: 0.9929 - accuracy: 0.7925 - val_loss: 1.8855 - val_accuracy: 0.5565\n",
      "Epoch 8/10\n",
      "63/63 [==============================] - 132s 2s/step - loss: 0.8529 - accuracy: 0.8190 - val_loss: 1.8638 - val_accuracy: 0.5530\n",
      "Epoch 9/10\n",
      "63/63 [==============================] - 133s 2s/step - loss: 0.7400 - accuracy: 0.8560 - val_loss: 1.8187 - val_accuracy: 0.5580\n",
      "Epoch 10/10\n",
      "63/63 [==============================] - 127s 2s/step - loss: 0.6497 - accuracy: 0.8800 - val_loss: 1.8267 - val_accuracy: 0.5680\n"
     ]
    },
    {
     "data": {
      "text/plain": [
       "<keras.src.callbacks.History at 0x265ded129d0>"
      ]
     },
     "execution_count": 58,
     "metadata": {},
     "output_type": "execute_result"
    }
   ],
   "source": [
    "model.fit(X_train,Y_train, epochs=10,validation_data=(X_test,Y_test))"
   ]
  },
  {
   "cell_type": "code",
   "execution_count": 82,
   "id": "0fab0aa1",
   "metadata": {},
   "outputs": [
    {
     "name": "stdout",
     "output_type": "stream",
     "text": [
      "63/63 [==============================] - 47s 749ms/step\n"
     ]
    }
   ],
   "source": [
    "predicted_value = model.predict(X_test)"
   ]
  },
  {
   "cell_type": "code",
   "execution_count": 66,
   "id": "5cb5094b",
   "metadata": {},
   "outputs": [
    {
     "data": {
      "text/plain": [
       "dict_keys(['BACKGROUND_Google', 'Faces', 'Faces_easy', 'Leopards', 'Motorbikes', 'accordion', 'airplanes', 'anchor', 'ant', 'barrel', 'bass', 'beaver', 'binocular', 'bonsai', 'brain', 'brontosaurus', 'buddha', 'butterfly', 'camera', 'cannon', 'car_side', 'ceiling_fan', 'cellphone', 'chair', 'chandelier', 'cougar_body', 'cougar_face', 'crab', 'crayfish', 'crocodile', 'crocodile_head', 'cup', 'dalmatian', 'dollar_bill', 'dolphin', 'dragonfly', 'electric_guitar', 'elephant', 'emu', 'euphonium', 'ewer', 'ferry', 'flamingo', 'flamingo_head', 'garfield', 'gerenuk', 'gramophone', 'grand_piano', 'hawksbill', 'headphone', 'hedgehog', 'helicopter', 'ibis', 'inline_skate', 'joshua_tree', 'kangaroo', 'ketch', 'lamp', 'laptop', 'llama', 'lobster', 'lotus', 'mandolin', 'mayfly', 'menorah', 'metronome', 'minaret', 'nautilus', 'octopus', 'okapi', 'pagoda', 'panda', 'pigeon', 'pizza', 'platypus', 'pyramid', 'revolver', 'rhino', 'rooster', 'saxophone', 'schooner', 'scissors', 'scorpion', 'sea_horse', 'snoopy', 'soccer_ball', 'stapler', 'starfish', 'stegosaurus', 'stop_sign', 'strawberry', 'sunflower', 'tick', 'trilobite', 'umbrella', 'watch', 'water_lilly', 'wheelchair', 'wild_cat', 'windsor_chair', 'wrench', 'yin_yang'])"
      ]
     },
     "execution_count": 66,
     "metadata": {},
     "output_type": "execute_result"
    }
   ],
   "source": [
    "train_generator.class_indices.keys()"
   ]
  },
  {
   "cell_type": "code",
   "execution_count": 97,
   "id": "bb65b74a",
   "metadata": {},
   "outputs": [
    {
     "data": {
      "text/plain": [
       "array([[9.6111442e-04, 1.2639467e-05, 3.0025205e-04, ..., 2.8983463e-04,\n",
       "        2.4443547e-05, 1.3398947e-08],\n",
       "       [7.1249288e-03, 1.1537762e-04, 7.8824756e-05, ..., 2.1994149e-06,\n",
       "        2.5662368e-06, 1.0050313e-08],\n",
       "       [6.8613538e-03, 1.3815082e-06, 4.2662734e-05, ..., 2.2987970e-05,\n",
       "        9.2004244e-05, 1.1386302e-06],\n",
       "       ...,\n",
       "       [1.0854675e-01, 1.9416041e-04, 2.4414911e-05, ..., 5.4044969e-04,\n",
       "        7.6270226e-04, 3.7958046e-06],\n",
       "       [1.5921799e-03, 3.4497445e-04, 6.1912631e-04, ..., 3.3533853e-04,\n",
       "        1.8253255e-05, 3.6746599e-07],\n",
       "       [2.5328781e-02, 4.9650189e-03, 3.2337401e-03, ..., 1.3856438e-04,\n",
       "        2.4875356e-02, 5.1598740e-03]], dtype=float32)"
      ]
     },
     "execution_count": 97,
     "metadata": {},
     "output_type": "execute_result"
    }
   ],
   "source": [
    "predicted_value"
   ]
  },
  {
   "cell_type": "code",
   "execution_count": 108,
   "id": "63da50ae",
   "metadata": {},
   "outputs": [
    {
     "data": {
      "image/png": "[encoded data removed]",
      "text/plain": [
       "<Figure size 640x480 with 1 Axes>"
      ]
     },
     "metadata": {},
     "output_type": "display_data"
    }
   ],
   "source": [
    "import matplotlib.pyplot as plt\n",
    "import numpy as np\n",
    "\n",
    "labels = train_generator.class_indices.keys()\n",
    "\n",
    "plt.imshow(X_test[4])\n",
    "m = np.argmax(predicted_value[4])\n"
   ]
  }
 ],
 "metadata": {
  "kernelspec": {
   "display_name": "Python 3 (ipykernel)",
   "language": "python",
   "name": "python3"
  },
  "language_info": {
   "codemirror_mode": {
    "name": "ipython",
    "version": 3
   },
   "file_extension": ".py",
   "mimetype": "text/x-python",
   "name": "python",
   "nbconvert_exporter": "python",
   "pygments_lexer": "ipython3",
   "version": "3.11.4"
  }
 },
 "nbformat": 4,
 "nbformat_minor": 5
}
