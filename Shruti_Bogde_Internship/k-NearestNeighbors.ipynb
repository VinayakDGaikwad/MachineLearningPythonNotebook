{
 "cells": [
  {
   "cell_type": "code",
   "execution_count": 5,
   "id": "cf245378-9e7f-4576-a7c1-673cbe18ebaa",
   "metadata": {},
   "outputs": [
    {
     "data": {
      "image/png": "[encoded data removed]",
      "text/plain": [
       "<Figure size 600x600 with 1 Axes>"
      ]
     },
     "metadata": {},
     "output_type": "display_data"
    }
   ],
   "source": [
    "import matplotlib.pyplot as plt\n",
    "\n",
    "# Data\n",
    "data = [\n",
    "    ([1, 2], 'A'), ([2, 3], 'A'), ([3, 1], 'A'),\n",
    "    ([7, 8], 'B'), ([8, 9], 'B'), ([9, 6], 'B')\n",
    "]\n",
    "test_point = [4, 5]\n",
    "\n",
    "# Separate data by class\n",
    "class_A = [point for point, label in data if label == 'A']\n",
    "class_B = [point for point, label in data if label == 'B']\n",
    "\n",
    "# Plot\n",
    "plt.figure(figsize=(6, 6))\n",
    "plt.scatter(*zip(*class_A), c='blue', label='Class A')\n",
    "plt.scatter(*zip(*class_B), c='green', label='Class B')\n",
    "plt.scatter(*test_point, c='red', marker='*', s=200, label='Test Point')\n",
    "\n",
    "plt.xlabel('X axis')\n",
    "plt.ylabel('Y axis')\n",
    "plt.title('Data Plot by Class')\n",
    "plt.legend()\n",
    "plt.grid(True)\n",
    "plt.show()\n"
   ]
  },
  {
   "cell_type": "code",
   "execution_count": 15,
   "id": "eeda038c-172f-488a-bfb8-c862c7048fdd",
   "metadata": {},
   "outputs": [],
   "source": [
    "def euclidean(p1, p2):\n",
    "    return (((p2[0] - p1[0]) ** 2) + (p2[1] - p1[1]) ** 2) ** 0.5"
   ]
  },
  {
   "cell_type": "code",
   "execution_count": 37,
   "id": "32439906-8056-47d3-ae80-0856e21d2a56",
   "metadata": {},
   "outputs": [
    {
     "name": "stdout",
     "output_type": "stream",
     "text": [
      "count of a 1\n",
      "count of b 2\n",
      "Belongs to B\n"
     ]
    }
   ],
   "source": [
    "def knn(data, test_point, k=3):\n",
    "    distances = []\n",
    "\n",
    "    # find the ditances which each point int he dataset\n",
    "    for point, label in data:\n",
    "        dist = euclidean(point, test_point)\n",
    "        distances.append((dist,label))\n",
    "\n",
    "    #nearest\n",
    "    distances.sort()\n",
    "\n",
    "    #take the top k points\n",
    "    top_k_nearest_points = distances[:k]\n",
    "    \n",
    "    labels = []\n",
    "    for point, label in top_k_nearest_points:\n",
    "        labels.append(label)\n",
    "        \n",
    "    #just count the number of lables\n",
    "    #whichever is max\n",
    "    # predicted = max(set(labels), key=labels.count)\n",
    "\n",
    "    count_A = labels.count('A')\n",
    "    count_B = labels.count('B')\n",
    "\n",
    "    print(\"count of a\",count_A)    \n",
    "    print(\"count of b\",count_B)\n",
    "\n",
    "    if count_A > count_B:\n",
    "        print(\"Belongs to A\")\n",
    "    else:\n",
    "        print(\"Belongs to B\")\n",
    "        \n",
    "knn(data,(5,6))"
   ]
  },
  {
   "cell_type": "code",
   "execution_count": null,
   "id": "18a8fdce-fed5-4ef6-8bc7-1f28debff359",
   "metadata": {},
   "outputs": [],
   "source": []
  },
  {
   "cell_type": "code",
   "execution_count": null,
   "id": "22f5785f-0065-4a66-a08b-a20edac0b93a",
   "metadata": {},
   "outputs": [],
   "source": [
    "def plot(data, test_point):\n",
    "    grid_size = 10\n",
    "    print(\"Plot:\")\n",
    "    for y in reversed(range(grid_size)):\n",
    "        row = ''\n",
    "        for x in range(grid_size):\n",
    "            symbol = '.'\n",
    "            for point, label in data:\n",
    "                if point == [x, y]:\n",
    "                    symbol = 'A' if label == 'A' else 'B'\n",
    "            if [x, y] == test_point:\n",
    "                symbol = '*'\n",
    "            row += symbol + ' '\n",
    "        print(row)\n"
   ]
  },
  {
   "cell_type": "code",
   "execution_count": null,
   "id": "a4c4f5ba-06e3-4bf7-a952-4f0d911483a1",
   "metadata": {},
   "outputs": [],
   "source": [
    "plot(data, test_point)\n"
   ]
  }
 ],
 "metadata": {
  "kernelspec": {
   "display_name": "Python 3 (ipykernel)",
   "language": "python",
   "name": "python3"
  },
  "language_info": {
   "codemirror_mode": {
    "name": "ipython",
    "version": 3
   },
   "file_extension": ".py",
   "mimetype": "text/x-python",
   "name": "python",
   "nbconvert_exporter": "python",
   "pygments_lexer": "ipython3",
   "version": "3.9.13"
  }
 },
 "nbformat": 4,
 "nbformat_minor": 5
}
