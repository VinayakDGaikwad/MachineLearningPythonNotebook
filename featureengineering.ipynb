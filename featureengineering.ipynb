{
 "cells": [
  {
   "cell_type": "code",
   "execution_count": 3,
   "id": "5f58f453-64a8-463f-b499-a1ecc7d69e0c",
   "metadata": {},
   "outputs": [
    {
     "name": "stdout",
     "output_type": "stream",
     "text": [
      "Original Data:\n",
      "     Age   Salary  Gender     City\n",
      "0  25.0  50000.0    Male   Mumbai\n",
      "1   NaN  60000.0  Female    Delhi\n",
      "2  35.0      NaN  Female    Delhi\n",
      "3  45.0  80000.0    Male   Mumbai\n",
      "4  32.0  72000.0  Female  Chennai\n",
      "\n",
      "Transformed Data:\n",
      "         Age    Salary  Gender  Gender_encoded  City_Delhi  City_Mumbai  \\\n",
      "0 -1.438480 -1.515535    Male               1       False         True   \n",
      "1  0.000000 -0.537770  Female               0        True        False   \n",
      "2  0.116634  0.000000  Female               0        True        False   \n",
      "3  1.671748  1.417758    Male               1       False         True   \n",
      "4 -0.349901  0.635547  Female               0       False        False   \n",
      "\n",
      "   Salary_per_Age  \n",
      "0        0.383449  \n",
      "1       -0.980034  \n",
      "2       -0.322927  \n",
      "3       -0.837447  \n",
      "4        1.756958  \n"
     ]
    },
    {
     "name": "stderr",
     "output_type": "stream",
     "text": [
      "C:\\Users\\HP\\AppData\\Local\\Temp\\ipykernel_2072\\116891264.py:17: FutureWarning: A value is trying to be set on a copy of a DataFrame or Series through chained assignment using an inplace method.\n",
      "The behavior will change in pandas 3.0. This inplace method will never work because the intermediate object on which we are setting values always behaves as a copy.\n",
      "\n",
      "For example, when doing 'df[col].method(value, inplace=True)', try using 'df.method({col: value}, inplace=True)' or df[col] = df[col].method(value) instead, to perform the operation inplace on the original object.\n",
      "\n",
      "\n",
      "  df['Age'].fillna(df['Age'].mean(), inplace=True)\n",
      "C:\\Users\\HP\\AppData\\Local\\Temp\\ipykernel_2072\\116891264.py:18: FutureWarning: A value is trying to be set on a copy of a DataFrame or Series through chained assignment using an inplace method.\n",
      "The behavior will change in pandas 3.0. This inplace method will never work because the intermediate object on which we are setting values always behaves as a copy.\n",
      "\n",
      "For example, when doing 'df[col].method(value, inplace=True)', try using 'df.method({col: value}, inplace=True)' or df[col] = df[col].method(value) instead, to perform the operation inplace on the original object.\n",
      "\n",
      "\n",
      "  df['Salary'].fillna(df['Salary'].mean(), inplace=True)\n"
     ]
    }
   ],
   "source": [
    "import pandas as pd\n",
    "import numpy as np\n",
    "from sklearn.preprocessing import LabelEncoder, StandardScaler\n",
    "\n",
    "# 1. Sample dataset\n",
    "data = {\n",
    "    'Age': [25, np.nan, 35, 45, 32],\n",
    "    'Salary': [50000, 60000, np.nan, 80000, 72000],\n",
    "    'Gender': ['Male', 'Female', 'Female', 'Male', 'Female'],\n",
    "    'City': ['Mumbai', 'Delhi', 'Delhi', 'Mumbai', 'Chennai']\n",
    "}\n",
    "\n",
    "df = pd.DataFrame(data)\n",
    "print(\"Original Data:\\n\", df)\n",
    "\n",
    "# 2. Handle missing values (fill with mean)\n",
    "df['Age'].fillna(df['Age'].mean(), inplace=True)\n",
    "df['Salary'].fillna(df['Salary'].mean(), inplace=True)\n",
    "\n",
    "# 3. Encode categorical features\n",
    "# Label encoding for 'Gender'\n",
    "le = LabelEncoder()\n",
    "df['Gender_encoded'] = le.fit_transform(df['Gender'])\n",
    "\n",
    "# One-hot encoding for 'City'\n",
    "df = pd.get_dummies(df, columns=['City'], drop_first=True)\n",
    "\n",
    "# 4. Create new feature: Salary per Age\n",
    "df['Salary_per_Age'] = df['Salary'] / df['Age']\n",
    "\n",
    "# 5. Feature scaling\n",
    "scaler = StandardScaler()\n",
    "df[['Age', 'Salary', 'Salary_per_Age']] = scaler.fit_transform(df[['Age', 'Salary', 'Salary_per_Age']])\n",
    "\n",
    "# Final transformed data\n",
    "print(\"\\nTransformed Data:\\n\", df)\n"
   ]
  },
  {
   "cell_type": "code",
   "execution_count": null,
   "id": "7333b1d5-6657-4f4c-ad89-98eac63bd4e2",
   "metadata": {},
   "outputs": [],
   "source": []
  }
 ],
 "metadata": {
  "kernelspec": {
   "display_name": "Python 3 (ipykernel)",
   "language": "python",
   "name": "python3"
  },
  "language_info": {
   "codemirror_mode": {
    "name": "ipython",
    "version": 3
   },
   "file_extension": ".py",
   "mimetype": "text/x-python",
   "name": "python",
   "nbconvert_exporter": "python",
   "pygments_lexer": "ipython3",
   "version": "3.9.13"
  }
 },
 "nbformat": 4,
 "nbformat_minor": 5
}
